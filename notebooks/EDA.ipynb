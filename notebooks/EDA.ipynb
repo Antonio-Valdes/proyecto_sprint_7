{
 "cells": [
  {
   "cell_type": "code",
   "execution_count": 3,
   "id": "c6f4a221",
   "metadata": {},
   "outputs": [],
   "source": [
    "import pandas as pd\n",
    "import streamlit\n",
    "import plotly\n",
    "\n",
    "df = pd.read_csv(\"../vehicles_us.csv\")"
   ]
  }
 ],
 "metadata": {
  "kernelspec": {
   "display_name": "base",
   "language": "python",
   "name": "python3"
  },
  "language_info": {
   "codemirror_mode": {
    "name": "ipython",
    "version": 3
   },
   "file_extension": ".py",
   "mimetype": "text/x-python",
   "name": "python",
   "nbconvert_exporter": "python",
   "pygments_lexer": "ipython3",
   "version": "3.13.5"
  }
 },
 "nbformat": 4,
 "nbformat_minor": 5
}
